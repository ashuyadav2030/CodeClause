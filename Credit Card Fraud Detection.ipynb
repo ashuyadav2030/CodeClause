{
 "cells": [
  {
   "cell_type": "markdown",
   "id": "be63c4c6",
   "metadata": {},
   "source": [
    " **Made By :-  Ashu Kumar**"
   ]
  },
  {
   "cell_type": "markdown",
   "id": "ebbead30",
   "metadata": {},
   "source": [
    "# <center>Credit Card Fraud Detection</center>"
   ]
  },
  {
   "cell_type": "markdown",
   "id": "b206f84e",
   "metadata": {},
   "source": [
    "The goal of this project is to build a detection model that detect Credit card Fraud. Here's a brief description of the columns:\n",
    "\n",
    "+ id: An identifier for each transaction.\n",
    "+ V1 to V28: These are likely anonymized features or variables extracted from the credit card transaction data. These features could represent various aspects of the transaction, such as transaction amount, time, or other relevant information. The specific meaning of these features would depend on the dataset's documentation or context.\n",
    "+ Amount: The transaction amount, which represents the value of the transaction in a given currency.\n",
    "+ Class: This column indicates whether the transaction is classified as \"fraudulent\" or \"non-fraudulent.\" It's a binary classification label, where 1 might represent a fraudulent transaction and 0 a non-fraudulent one."
   ]
  },
  {
   "cell_type": "markdown",
   "id": "6e48090c",
   "metadata": {},
   "source": [
    "**Import the required libraries**"
   ]
  },
  {
   "cell_type": "code",
   "execution_count": 1,
   "id": "681211db",
   "metadata": {},
   "outputs": [],
   "source": [
    "import pandas as pd\n",
    "import numpy as np\n",
    "import seaborn as sns\n",
    "import matplotlib.pyplot as plt\n",
    "from sklearn.model_selection import train_test_split\n",
    "from sklearn.linear_model import LogisticRegression\n",
    "from sklearn.svm import SVC\n",
    "from sklearn.pipeline import Pipeline\n",
    "from sklearn.tree import DecisionTreeClassifier\n",
    "from sklearn.neighbors import KNeighborsClassifier\n",
    "from sklearn.naive_bayes import GaussianNB\n",
    "from sklearn.ensemble import GradientBoostingClassifier\n",
    "from sklearn.preprocessing import StandardScaler\n",
    "from sklearn.preprocessing import LabelEncoder\n",
    "from sklearn.model_selection import cross_val_score\n",
    "from sklearn.ensemble import RandomForestClassifier\n",
    "from sklearn.metrics import confusion_matrix\n",
    "from sklearn.metrics import accuracy_score, precision_score, recall_score, f1_score, precision_score\n",
    "from sklearn.metrics import r2_score, mean_absolute_error, mean_squared_error\n",
    "from sklearn import metrics\n",
    "import zipfile\n",
    "import warnings\n",
    "warnings.filterwarnings('ignore')\n",
    "%matplotlib inline\n",
    "sns.set(color_codes=True)\n",
    "pd.set_option('display.max_columns', None)\n",
    "pd.set_option('display.max_colwidth', None)\n",
    "%matplotlib inline\n",
    "sns.set(color_codes=True)"
   ]
  },
  {
   "cell_type": "markdown",
   "id": "51fab4c0",
   "metadata": {},
   "source": [
    "**Load the dataset into jupyter notebook**"
   ]
  },
  {
   "cell_type": "code",
   "execution_count": 2,
   "id": "46a215fd",
   "metadata": {
    "scrolled": false
   },
   "outputs": [],
   "source": [
    "df = pd.read_csv('creditcard.csv')"
   ]
  },
  {
   "cell_type": "code",
   "execution_count": 3,
   "id": "cc74d3a2",
   "metadata": {},
   "outputs": [
    {
     "data": {
      "text/html": [
       "<div>\n",
       "<style scoped>\n",
       "    .dataframe tbody tr th:only-of-type {\n",
       "        vertical-align: middle;\n",
       "    }\n",
       "\n",
       "    .dataframe tbody tr th {\n",
       "        vertical-align: top;\n",
       "    }\n",
       "\n",
       "    .dataframe thead th {\n",
       "        text-align: right;\n",
       "    }\n",
       "</style>\n",
       "<table border=\"1\" class=\"dataframe\">\n",
       "  <thead>\n",
       "    <tr style=\"text-align: right;\">\n",
       "      <th></th>\n",
       "      <th>id</th>\n",
       "      <th>V1</th>\n",
       "      <th>V2</th>\n",
       "      <th>V3</th>\n",
       "      <th>V4</th>\n",
       "      <th>V5</th>\n",
       "      <th>V6</th>\n",
       "      <th>V7</th>\n",
       "      <th>V8</th>\n",
       "      <th>V9</th>\n",
       "      <th>V10</th>\n",
       "      <th>V11</th>\n",
       "      <th>V12</th>\n",
       "      <th>V13</th>\n",
       "      <th>V14</th>\n",
       "      <th>V15</th>\n",
       "      <th>V16</th>\n",
       "      <th>V17</th>\n",
       "      <th>V18</th>\n",
       "      <th>V19</th>\n",
       "      <th>V20</th>\n",
       "      <th>V21</th>\n",
       "      <th>V22</th>\n",
       "      <th>V23</th>\n",
       "      <th>V24</th>\n",
       "      <th>V25</th>\n",
       "      <th>V26</th>\n",
       "      <th>V27</th>\n",
       "      <th>V28</th>\n",
       "      <th>Amount</th>\n",
       "      <th>Class</th>\n",
       "    </tr>\n",
       "  </thead>\n",
       "  <tbody>\n",
       "    <tr>\n",
       "      <th>0</th>\n",
       "      <td>0</td>\n",
       "      <td>-0.260648</td>\n",
       "      <td>-0.469648</td>\n",
       "      <td>2.496266</td>\n",
       "      <td>-0.083724</td>\n",
       "      <td>0.129681</td>\n",
       "      <td>0.732898</td>\n",
       "      <td>0.519014</td>\n",
       "      <td>-0.130006</td>\n",
       "      <td>0.727159</td>\n",
       "      <td>0.637735</td>\n",
       "      <td>-0.987020</td>\n",
       "      <td>0.293438</td>\n",
       "      <td>-0.941386</td>\n",
       "      <td>0.549020</td>\n",
       "      <td>1.804879</td>\n",
       "      <td>0.215598</td>\n",
       "      <td>0.512307</td>\n",
       "      <td>0.333644</td>\n",
       "      <td>0.124270</td>\n",
       "      <td>0.091202</td>\n",
       "      <td>-0.110552</td>\n",
       "      <td>0.217606</td>\n",
       "      <td>-0.134794</td>\n",
       "      <td>0.165959</td>\n",
       "      <td>0.126280</td>\n",
       "      <td>-0.434824</td>\n",
       "      <td>-0.081230</td>\n",
       "      <td>-0.151045</td>\n",
       "      <td>17982.10</td>\n",
       "      <td>0</td>\n",
       "    </tr>\n",
       "    <tr>\n",
       "      <th>1</th>\n",
       "      <td>1</td>\n",
       "      <td>0.985100</td>\n",
       "      <td>-0.356045</td>\n",
       "      <td>0.558056</td>\n",
       "      <td>-0.429654</td>\n",
       "      <td>0.277140</td>\n",
       "      <td>0.428605</td>\n",
       "      <td>0.406466</td>\n",
       "      <td>-0.133118</td>\n",
       "      <td>0.347452</td>\n",
       "      <td>0.529808</td>\n",
       "      <td>0.140107</td>\n",
       "      <td>1.564246</td>\n",
       "      <td>0.574074</td>\n",
       "      <td>0.627719</td>\n",
       "      <td>0.706121</td>\n",
       "      <td>0.789188</td>\n",
       "      <td>0.403810</td>\n",
       "      <td>0.201799</td>\n",
       "      <td>-0.340687</td>\n",
       "      <td>-0.233984</td>\n",
       "      <td>-0.194936</td>\n",
       "      <td>-0.605761</td>\n",
       "      <td>0.079469</td>\n",
       "      <td>-0.577395</td>\n",
       "      <td>0.190090</td>\n",
       "      <td>0.296503</td>\n",
       "      <td>-0.248052</td>\n",
       "      <td>-0.064512</td>\n",
       "      <td>6531.37</td>\n",
       "      <td>0</td>\n",
       "    </tr>\n",
       "    <tr>\n",
       "      <th>2</th>\n",
       "      <td>2</td>\n",
       "      <td>-0.260272</td>\n",
       "      <td>-0.949385</td>\n",
       "      <td>1.728538</td>\n",
       "      <td>-0.457986</td>\n",
       "      <td>0.074062</td>\n",
       "      <td>1.419481</td>\n",
       "      <td>0.743511</td>\n",
       "      <td>-0.095576</td>\n",
       "      <td>-0.261297</td>\n",
       "      <td>0.690708</td>\n",
       "      <td>-0.272985</td>\n",
       "      <td>0.659201</td>\n",
       "      <td>0.805173</td>\n",
       "      <td>0.616874</td>\n",
       "      <td>3.069025</td>\n",
       "      <td>-0.577514</td>\n",
       "      <td>0.886526</td>\n",
       "      <td>0.239442</td>\n",
       "      <td>-2.366079</td>\n",
       "      <td>0.361652</td>\n",
       "      <td>-0.005020</td>\n",
       "      <td>0.702906</td>\n",
       "      <td>0.945045</td>\n",
       "      <td>-1.154666</td>\n",
       "      <td>-0.605564</td>\n",
       "      <td>-0.312895</td>\n",
       "      <td>-0.300258</td>\n",
       "      <td>-0.244718</td>\n",
       "      <td>2513.54</td>\n",
       "      <td>0</td>\n",
       "    </tr>\n",
       "    <tr>\n",
       "      <th>3</th>\n",
       "      <td>3</td>\n",
       "      <td>-0.152152</td>\n",
       "      <td>-0.508959</td>\n",
       "      <td>1.746840</td>\n",
       "      <td>-1.090178</td>\n",
       "      <td>0.249486</td>\n",
       "      <td>1.143312</td>\n",
       "      <td>0.518269</td>\n",
       "      <td>-0.065130</td>\n",
       "      <td>-0.205698</td>\n",
       "      <td>0.575231</td>\n",
       "      <td>-0.752581</td>\n",
       "      <td>0.737483</td>\n",
       "      <td>0.592994</td>\n",
       "      <td>0.559535</td>\n",
       "      <td>-0.697664</td>\n",
       "      <td>-0.030669</td>\n",
       "      <td>0.242629</td>\n",
       "      <td>2.178616</td>\n",
       "      <td>-1.345060</td>\n",
       "      <td>-0.378223</td>\n",
       "      <td>-0.146927</td>\n",
       "      <td>-0.038212</td>\n",
       "      <td>-0.214048</td>\n",
       "      <td>-1.893131</td>\n",
       "      <td>1.003963</td>\n",
       "      <td>-0.515950</td>\n",
       "      <td>-0.165316</td>\n",
       "      <td>0.048424</td>\n",
       "      <td>5384.44</td>\n",
       "      <td>0</td>\n",
       "    </tr>\n",
       "    <tr>\n",
       "      <th>4</th>\n",
       "      <td>4</td>\n",
       "      <td>-0.206820</td>\n",
       "      <td>-0.165280</td>\n",
       "      <td>1.527053</td>\n",
       "      <td>-0.448293</td>\n",
       "      <td>0.106125</td>\n",
       "      <td>0.530549</td>\n",
       "      <td>0.658849</td>\n",
       "      <td>-0.212660</td>\n",
       "      <td>1.049921</td>\n",
       "      <td>0.968046</td>\n",
       "      <td>-1.203171</td>\n",
       "      <td>1.029577</td>\n",
       "      <td>1.439310</td>\n",
       "      <td>0.241454</td>\n",
       "      <td>0.153008</td>\n",
       "      <td>0.224538</td>\n",
       "      <td>0.366466</td>\n",
       "      <td>0.291782</td>\n",
       "      <td>0.445317</td>\n",
       "      <td>0.247237</td>\n",
       "      <td>-0.106984</td>\n",
       "      <td>0.729727</td>\n",
       "      <td>-0.161666</td>\n",
       "      <td>0.312561</td>\n",
       "      <td>-0.414116</td>\n",
       "      <td>1.071126</td>\n",
       "      <td>0.023712</td>\n",
       "      <td>0.419117</td>\n",
       "      <td>14278.97</td>\n",
       "      <td>0</td>\n",
       "    </tr>\n",
       "  </tbody>\n",
       "</table>\n",
       "</div>"
      ],
      "text/plain": [
       "   id        V1        V2        V3        V4        V5        V6        V7  \\\n",
       "0   0 -0.260648 -0.469648  2.496266 -0.083724  0.129681  0.732898  0.519014   \n",
       "1   1  0.985100 -0.356045  0.558056 -0.429654  0.277140  0.428605  0.406466   \n",
       "2   2 -0.260272 -0.949385  1.728538 -0.457986  0.074062  1.419481  0.743511   \n",
       "3   3 -0.152152 -0.508959  1.746840 -1.090178  0.249486  1.143312  0.518269   \n",
       "4   4 -0.206820 -0.165280  1.527053 -0.448293  0.106125  0.530549  0.658849   \n",
       "\n",
       "         V8        V9       V10       V11       V12       V13       V14  \\\n",
       "0 -0.130006  0.727159  0.637735 -0.987020  0.293438 -0.941386  0.549020   \n",
       "1 -0.133118  0.347452  0.529808  0.140107  1.564246  0.574074  0.627719   \n",
       "2 -0.095576 -0.261297  0.690708 -0.272985  0.659201  0.805173  0.616874   \n",
       "3 -0.065130 -0.205698  0.575231 -0.752581  0.737483  0.592994  0.559535   \n",
       "4 -0.212660  1.049921  0.968046 -1.203171  1.029577  1.439310  0.241454   \n",
       "\n",
       "        V15       V16       V17       V18       V19       V20       V21  \\\n",
       "0  1.804879  0.215598  0.512307  0.333644  0.124270  0.091202 -0.110552   \n",
       "1  0.706121  0.789188  0.403810  0.201799 -0.340687 -0.233984 -0.194936   \n",
       "2  3.069025 -0.577514  0.886526  0.239442 -2.366079  0.361652 -0.005020   \n",
       "3 -0.697664 -0.030669  0.242629  2.178616 -1.345060 -0.378223 -0.146927   \n",
       "4  0.153008  0.224538  0.366466  0.291782  0.445317  0.247237 -0.106984   \n",
       "\n",
       "        V22       V23       V24       V25       V26       V27       V28  \\\n",
       "0  0.217606 -0.134794  0.165959  0.126280 -0.434824 -0.081230 -0.151045   \n",
       "1 -0.605761  0.079469 -0.577395  0.190090  0.296503 -0.248052 -0.064512   \n",
       "2  0.702906  0.945045 -1.154666 -0.605564 -0.312895 -0.300258 -0.244718   \n",
       "3 -0.038212 -0.214048 -1.893131  1.003963 -0.515950 -0.165316  0.048424   \n",
       "4  0.729727 -0.161666  0.312561 -0.414116  1.071126  0.023712  0.419117   \n",
       "\n",
       "     Amount  Class  \n",
       "0  17982.10      0  \n",
       "1   6531.37      0  \n",
       "2   2513.54      0  \n",
       "3   5384.44      0  \n",
       "4  14278.97      0  "
      ]
     },
     "execution_count": 3,
     "metadata": {},
     "output_type": "execute_result"
    }
   ],
   "source": [
    "df.head()"
   ]
  },
  {
   "cell_type": "markdown",
   "id": "45abb3ef",
   "metadata": {},
   "source": [
    "**Retrieve the shape of the dataset, which indicates the number of rows and columns it contains.**"
   ]
  },
  {
   "cell_type": "code",
   "execution_count": 4,
   "id": "daad889c",
   "metadata": {},
   "outputs": [
    {
     "data": {
      "text/plain": [
       "(568630, 31)"
      ]
     },
     "execution_count": 4,
     "metadata": {},
     "output_type": "execute_result"
    }
   ],
   "source": [
    "df.shape"
   ]
  },
  {
   "cell_type": "markdown",
   "id": "788f06ff",
   "metadata": {},
   "source": [
    "**Conduct an examination of the columns present in the dataset.**"
   ]
  },
  {
   "cell_type": "code",
   "execution_count": 5,
   "id": "5c053b04",
   "metadata": {},
   "outputs": [
    {
     "data": {
      "text/plain": [
       "Index(['id', 'V1', 'V2', 'V3', 'V4', 'V5', 'V6', 'V7', 'V8', 'V9', 'V10',\n",
       "       'V11', 'V12', 'V13', 'V14', 'V15', 'V16', 'V17', 'V18', 'V19', 'V20',\n",
       "       'V21', 'V22', 'V23', 'V24', 'V25', 'V26', 'V27', 'V28', 'Amount',\n",
       "       'Class'],\n",
       "      dtype='object')"
      ]
     },
     "execution_count": 5,
     "metadata": {},
     "output_type": "execute_result"
    }
   ],
   "source": [
    "df.columns"
   ]
  },
  {
   "cell_type": "markdown",
   "id": "cfaa82fb",
   "metadata": {},
   "source": [
    "**Retrieve the information summary of the dataset, including details such as column names, data types, non-null counts, and memory usage.**"
   ]
  },
  {
   "cell_type": "code",
   "execution_count": 6,
   "id": "d2e83ea8",
   "metadata": {},
   "outputs": [
    {
     "name": "stdout",
     "output_type": "stream",
     "text": [
      "<class 'pandas.core.frame.DataFrame'>\n",
      "RangeIndex: 568630 entries, 0 to 568629\n",
      "Data columns (total 31 columns):\n",
      " #   Column  Non-Null Count   Dtype  \n",
      "---  ------  --------------   -----  \n",
      " 0   id      568630 non-null  int64  \n",
      " 1   V1      568630 non-null  float64\n",
      " 2   V2      568630 non-null  float64\n",
      " 3   V3      568630 non-null  float64\n",
      " 4   V4      568630 non-null  float64\n",
      " 5   V5      568630 non-null  float64\n",
      " 6   V6      568630 non-null  float64\n",
      " 7   V7      568630 non-null  float64\n",
      " 8   V8      568630 non-null  float64\n",
      " 9   V9      568630 non-null  float64\n",
      " 10  V10     568630 non-null  float64\n",
      " 11  V11     568630 non-null  float64\n",
      " 12  V12     568630 non-null  float64\n",
      " 13  V13     568630 non-null  float64\n",
      " 14  V14     568630 non-null  float64\n",
      " 15  V15     568630 non-null  float64\n",
      " 16  V16     568630 non-null  float64\n",
      " 17  V17     568630 non-null  float64\n",
      " 18  V18     568630 non-null  float64\n",
      " 19  V19     568630 non-null  float64\n",
      " 20  V20     568630 non-null  float64\n",
      " 21  V21     568630 non-null  float64\n",
      " 22  V22     568630 non-null  float64\n",
      " 23  V23     568630 non-null  float64\n",
      " 24  V24     568630 non-null  float64\n",
      " 25  V25     568630 non-null  float64\n",
      " 26  V26     568630 non-null  float64\n",
      " 27  V27     568630 non-null  float64\n",
      " 28  V28     568630 non-null  float64\n",
      " 29  Amount  568630 non-null  float64\n",
      " 30  Class   568630 non-null  int64  \n",
      "dtypes: float64(29), int64(2)\n",
      "memory usage: 134.5 MB\n"
     ]
    }
   ],
   "source": [
    "df.info()"
   ]
  },
  {
   "cell_type": "markdown",
   "id": "534aa62a",
   "metadata": {},
   "source": [
    "**Obtain the statistical summary of the dataset, the 'describe' function was employed.**"
   ]
  },
  {
   "cell_type": "code",
   "execution_count": 7,
   "id": "8615d1d3",
   "metadata": {},
   "outputs": [
    {
     "data": {
      "text/html": [
       "<div>\n",
       "<style scoped>\n",
       "    .dataframe tbody tr th:only-of-type {\n",
       "        vertical-align: middle;\n",
       "    }\n",
       "\n",
       "    .dataframe tbody tr th {\n",
       "        vertical-align: top;\n",
       "    }\n",
       "\n",
       "    .dataframe thead th {\n",
       "        text-align: right;\n",
       "    }\n",
       "</style>\n",
       "<table border=\"1\" class=\"dataframe\">\n",
       "  <thead>\n",
       "    <tr style=\"text-align: right;\">\n",
       "      <th></th>\n",
       "      <th>id</th>\n",
       "      <th>V1</th>\n",
       "      <th>V2</th>\n",
       "      <th>V3</th>\n",
       "      <th>V4</th>\n",
       "      <th>V5</th>\n",
       "      <th>V6</th>\n",
       "      <th>V7</th>\n",
       "      <th>V8</th>\n",
       "      <th>V9</th>\n",
       "      <th>V10</th>\n",
       "      <th>V11</th>\n",
       "      <th>V12</th>\n",
       "      <th>V13</th>\n",
       "      <th>V14</th>\n",
       "      <th>V15</th>\n",
       "      <th>V16</th>\n",
       "      <th>V17</th>\n",
       "      <th>V18</th>\n",
       "      <th>V19</th>\n",
       "      <th>V20</th>\n",
       "      <th>V21</th>\n",
       "      <th>V22</th>\n",
       "      <th>V23</th>\n",
       "      <th>V24</th>\n",
       "      <th>V25</th>\n",
       "      <th>V26</th>\n",
       "      <th>V27</th>\n",
       "      <th>V28</th>\n",
       "      <th>Amount</th>\n",
       "      <th>Class</th>\n",
       "    </tr>\n",
       "  </thead>\n",
       "  <tbody>\n",
       "    <tr>\n",
       "      <th>count</th>\n",
       "      <td>568630.000000</td>\n",
       "      <td>5.686300e+05</td>\n",
       "      <td>5.686300e+05</td>\n",
       "      <td>5.686300e+05</td>\n",
       "      <td>5.686300e+05</td>\n",
       "      <td>5.686300e+05</td>\n",
       "      <td>5.686300e+05</td>\n",
       "      <td>5.686300e+05</td>\n",
       "      <td>5.686300e+05</td>\n",
       "      <td>5.686300e+05</td>\n",
       "      <td>5.686300e+05</td>\n",
       "      <td>5.686300e+05</td>\n",
       "      <td>5.686300e+05</td>\n",
       "      <td>5.686300e+05</td>\n",
       "      <td>5.686300e+05</td>\n",
       "      <td>5.686300e+05</td>\n",
       "      <td>5.686300e+05</td>\n",
       "      <td>5.686300e+05</td>\n",
       "      <td>5.686300e+05</td>\n",
       "      <td>5.686300e+05</td>\n",
       "      <td>5.686300e+05</td>\n",
       "      <td>5.686300e+05</td>\n",
       "      <td>5.686300e+05</td>\n",
       "      <td>5.686300e+05</td>\n",
       "      <td>5.686300e+05</td>\n",
       "      <td>5.686300e+05</td>\n",
       "      <td>5.686300e+05</td>\n",
       "      <td>5.686300e+05</td>\n",
       "      <td>5.686300e+05</td>\n",
       "      <td>568630.000000</td>\n",
       "      <td>568630.0</td>\n",
       "    </tr>\n",
       "    <tr>\n",
       "      <th>mean</th>\n",
       "      <td>284314.500000</td>\n",
       "      <td>-5.638058e-17</td>\n",
       "      <td>-1.319545e-16</td>\n",
       "      <td>-3.518788e-17</td>\n",
       "      <td>-2.879008e-17</td>\n",
       "      <td>7.997245e-18</td>\n",
       "      <td>-3.958636e-17</td>\n",
       "      <td>-3.198898e-17</td>\n",
       "      <td>2.109273e-17</td>\n",
       "      <td>3.998623e-17</td>\n",
       "      <td>1.991314e-16</td>\n",
       "      <td>-1.183592e-16</td>\n",
       "      <td>-5.758017e-17</td>\n",
       "      <td>-5.698037e-18</td>\n",
       "      <td>-4.078595e-17</td>\n",
       "      <td>2.649087e-17</td>\n",
       "      <td>-1.719408e-17</td>\n",
       "      <td>-3.398829e-17</td>\n",
       "      <td>-5.837989e-17</td>\n",
       "      <td>2.479146e-17</td>\n",
       "      <td>-1.579456e-17</td>\n",
       "      <td>4.758361e-17</td>\n",
       "      <td>3.948640e-18</td>\n",
       "      <td>6.194741e-18</td>\n",
       "      <td>-2.799036e-18</td>\n",
       "      <td>-3.178905e-17</td>\n",
       "      <td>-7.497417e-18</td>\n",
       "      <td>-3.598760e-17</td>\n",
       "      <td>2.609101e-17</td>\n",
       "      <td>12041.957635</td>\n",
       "      <td>0.5</td>\n",
       "    </tr>\n",
       "    <tr>\n",
       "      <th>std</th>\n",
       "      <td>164149.486121</td>\n",
       "      <td>1.000001e+00</td>\n",
       "      <td>1.000001e+00</td>\n",
       "      <td>1.000001e+00</td>\n",
       "      <td>1.000001e+00</td>\n",
       "      <td>1.000001e+00</td>\n",
       "      <td>1.000001e+00</td>\n",
       "      <td>1.000001e+00</td>\n",
       "      <td>1.000001e+00</td>\n",
       "      <td>1.000001e+00</td>\n",
       "      <td>1.000001e+00</td>\n",
       "      <td>1.000001e+00</td>\n",
       "      <td>1.000001e+00</td>\n",
       "      <td>1.000001e+00</td>\n",
       "      <td>1.000001e+00</td>\n",
       "      <td>1.000001e+00</td>\n",
       "      <td>1.000001e+00</td>\n",
       "      <td>1.000001e+00</td>\n",
       "      <td>1.000001e+00</td>\n",
       "      <td>1.000001e+00</td>\n",
       "      <td>1.000001e+00</td>\n",
       "      <td>1.000001e+00</td>\n",
       "      <td>1.000001e+00</td>\n",
       "      <td>1.000001e+00</td>\n",
       "      <td>1.000001e+00</td>\n",
       "      <td>1.000001e+00</td>\n",
       "      <td>1.000001e+00</td>\n",
       "      <td>1.000001e+00</td>\n",
       "      <td>1.000001e+00</td>\n",
       "      <td>6919.644449</td>\n",
       "      <td>0.5</td>\n",
       "    </tr>\n",
       "    <tr>\n",
       "      <th>min</th>\n",
       "      <td>0.000000</td>\n",
       "      <td>-3.495584e+00</td>\n",
       "      <td>-4.996657e+01</td>\n",
       "      <td>-3.183760e+00</td>\n",
       "      <td>-4.951222e+00</td>\n",
       "      <td>-9.952786e+00</td>\n",
       "      <td>-2.111111e+01</td>\n",
       "      <td>-4.351839e+00</td>\n",
       "      <td>-1.075634e+01</td>\n",
       "      <td>-3.751919e+00</td>\n",
       "      <td>-3.163276e+00</td>\n",
       "      <td>-5.954723e+00</td>\n",
       "      <td>-2.020399e+00</td>\n",
       "      <td>-5.955227e+00</td>\n",
       "      <td>-2.107417e+00</td>\n",
       "      <td>-3.861813e+00</td>\n",
       "      <td>-2.214513e+00</td>\n",
       "      <td>-2.484938e+00</td>\n",
       "      <td>-2.421949e+00</td>\n",
       "      <td>-7.804988e+00</td>\n",
       "      <td>-7.814784e+01</td>\n",
       "      <td>-1.938252e+01</td>\n",
       "      <td>-7.734798e+00</td>\n",
       "      <td>-3.029545e+01</td>\n",
       "      <td>-4.067968e+00</td>\n",
       "      <td>-1.361263e+01</td>\n",
       "      <td>-8.226969e+00</td>\n",
       "      <td>-1.049863e+01</td>\n",
       "      <td>-3.903524e+01</td>\n",
       "      <td>50.010000</td>\n",
       "      <td>0.0</td>\n",
       "    </tr>\n",
       "    <tr>\n",
       "      <th>25%</th>\n",
       "      <td>142157.250000</td>\n",
       "      <td>-5.652859e-01</td>\n",
       "      <td>-4.866777e-01</td>\n",
       "      <td>-6.492987e-01</td>\n",
       "      <td>-6.560203e-01</td>\n",
       "      <td>-2.934955e-01</td>\n",
       "      <td>-4.458712e-01</td>\n",
       "      <td>-2.835329e-01</td>\n",
       "      <td>-1.922572e-01</td>\n",
       "      <td>-5.687446e-01</td>\n",
       "      <td>-5.901008e-01</td>\n",
       "      <td>-7.014495e-01</td>\n",
       "      <td>-8.311331e-01</td>\n",
       "      <td>-6.966667e-01</td>\n",
       "      <td>-8.732057e-01</td>\n",
       "      <td>-6.212485e-01</td>\n",
       "      <td>-7.162655e-01</td>\n",
       "      <td>-6.194913e-01</td>\n",
       "      <td>-5.560458e-01</td>\n",
       "      <td>-5.653082e-01</td>\n",
       "      <td>-3.502399e-01</td>\n",
       "      <td>-1.664408e-01</td>\n",
       "      <td>-4.904892e-01</td>\n",
       "      <td>-2.376289e-01</td>\n",
       "      <td>-6.515801e-01</td>\n",
       "      <td>-5.541485e-01</td>\n",
       "      <td>-6.318948e-01</td>\n",
       "      <td>-3.049607e-01</td>\n",
       "      <td>-2.318783e-01</td>\n",
       "      <td>6054.892500</td>\n",
       "      <td>0.0</td>\n",
       "    </tr>\n",
       "    <tr>\n",
       "      <th>50%</th>\n",
       "      <td>284314.500000</td>\n",
       "      <td>-9.363846e-02</td>\n",
       "      <td>-1.358939e-01</td>\n",
       "      <td>3.528579e-04</td>\n",
       "      <td>-7.376152e-02</td>\n",
       "      <td>8.108788e-02</td>\n",
       "      <td>7.871758e-02</td>\n",
       "      <td>2.333659e-01</td>\n",
       "      <td>-1.145242e-01</td>\n",
       "      <td>9.252647e-02</td>\n",
       "      <td>2.626145e-01</td>\n",
       "      <td>-4.104986e-02</td>\n",
       "      <td>1.620521e-01</td>\n",
       "      <td>1.760812e-02</td>\n",
       "      <td>2.305011e-01</td>\n",
       "      <td>-3.925566e-02</td>\n",
       "      <td>1.340262e-01</td>\n",
       "      <td>2.716407e-01</td>\n",
       "      <td>8.729382e-02</td>\n",
       "      <td>-2.597869e-02</td>\n",
       "      <td>-1.233776e-01</td>\n",
       "      <td>-3.743065e-02</td>\n",
       "      <td>-2.732881e-02</td>\n",
       "      <td>-5.968903e-02</td>\n",
       "      <td>1.590123e-02</td>\n",
       "      <td>-8.193162e-03</td>\n",
       "      <td>-1.189208e-02</td>\n",
       "      <td>-1.729111e-01</td>\n",
       "      <td>-1.392973e-02</td>\n",
       "      <td>12030.150000</td>\n",
       "      <td>0.5</td>\n",
       "    </tr>\n",
       "    <tr>\n",
       "      <th>75%</th>\n",
       "      <td>426471.750000</td>\n",
       "      <td>8.326582e-01</td>\n",
       "      <td>3.435552e-01</td>\n",
       "      <td>6.285380e-01</td>\n",
       "      <td>7.070047e-01</td>\n",
       "      <td>4.397368e-01</td>\n",
       "      <td>4.977881e-01</td>\n",
       "      <td>5.259548e-01</td>\n",
       "      <td>4.729905e-02</td>\n",
       "      <td>5.592621e-01</td>\n",
       "      <td>5.924603e-01</td>\n",
       "      <td>7.477730e-01</td>\n",
       "      <td>7.446723e-01</td>\n",
       "      <td>6.856048e-01</td>\n",
       "      <td>7.518216e-01</td>\n",
       "      <td>6.654065e-01</td>\n",
       "      <td>6.556061e-01</td>\n",
       "      <td>5.182242e-01</td>\n",
       "      <td>5.443887e-01</td>\n",
       "      <td>5.601164e-01</td>\n",
       "      <td>2.482164e-01</td>\n",
       "      <td>1.479787e-01</td>\n",
       "      <td>4.638817e-01</td>\n",
       "      <td>1.557153e-01</td>\n",
       "      <td>7.007374e-01</td>\n",
       "      <td>5.500147e-01</td>\n",
       "      <td>6.728879e-01</td>\n",
       "      <td>3.340230e-01</td>\n",
       "      <td>4.095903e-01</td>\n",
       "      <td>18036.330000</td>\n",
       "      <td>1.0</td>\n",
       "    </tr>\n",
       "    <tr>\n",
       "      <th>max</th>\n",
       "      <td>568629.000000</td>\n",
       "      <td>2.229046e+00</td>\n",
       "      <td>4.361865e+00</td>\n",
       "      <td>1.412583e+01</td>\n",
       "      <td>3.201536e+00</td>\n",
       "      <td>4.271689e+01</td>\n",
       "      <td>2.616840e+01</td>\n",
       "      <td>2.178730e+02</td>\n",
       "      <td>5.958040e+00</td>\n",
       "      <td>2.027006e+01</td>\n",
       "      <td>3.172271e+01</td>\n",
       "      <td>2.513573e+00</td>\n",
       "      <td>1.791356e+01</td>\n",
       "      <td>7.187486e+00</td>\n",
       "      <td>1.916954e+01</td>\n",
       "      <td>1.453220e+01</td>\n",
       "      <td>4.665291e+01</td>\n",
       "      <td>6.994124e+00</td>\n",
       "      <td>6.783716e+00</td>\n",
       "      <td>3.831672e+00</td>\n",
       "      <td>2.987281e+01</td>\n",
       "      <td>8.087080e+00</td>\n",
       "      <td>1.263251e+01</td>\n",
       "      <td>3.170763e+01</td>\n",
       "      <td>1.296564e+01</td>\n",
       "      <td>1.462151e+01</td>\n",
       "      <td>5.623285e+00</td>\n",
       "      <td>1.132311e+02</td>\n",
       "      <td>7.725594e+01</td>\n",
       "      <td>24039.930000</td>\n",
       "      <td>1.0</td>\n",
       "    </tr>\n",
       "  </tbody>\n",
       "</table>\n",
       "</div>"
      ],
      "text/plain": [
       "                  id            V1            V2            V3            V4  \\\n",
       "count  568630.000000  5.686300e+05  5.686300e+05  5.686300e+05  5.686300e+05   \n",
       "mean   284314.500000 -5.638058e-17 -1.319545e-16 -3.518788e-17 -2.879008e-17   \n",
       "std    164149.486121  1.000001e+00  1.000001e+00  1.000001e+00  1.000001e+00   \n",
       "min         0.000000 -3.495584e+00 -4.996657e+01 -3.183760e+00 -4.951222e+00   \n",
       "25%    142157.250000 -5.652859e-01 -4.866777e-01 -6.492987e-01 -6.560203e-01   \n",
       "50%    284314.500000 -9.363846e-02 -1.358939e-01  3.528579e-04 -7.376152e-02   \n",
       "75%    426471.750000  8.326582e-01  3.435552e-01  6.285380e-01  7.070047e-01   \n",
       "max    568629.000000  2.229046e+00  4.361865e+00  1.412583e+01  3.201536e+00   \n",
       "\n",
       "                 V5            V6            V7            V8            V9  \\\n",
       "count  5.686300e+05  5.686300e+05  5.686300e+05  5.686300e+05  5.686300e+05   \n",
       "mean   7.997245e-18 -3.958636e-17 -3.198898e-17  2.109273e-17  3.998623e-17   \n",
       "std    1.000001e+00  1.000001e+00  1.000001e+00  1.000001e+00  1.000001e+00   \n",
       "min   -9.952786e+00 -2.111111e+01 -4.351839e+00 -1.075634e+01 -3.751919e+00   \n",
       "25%   -2.934955e-01 -4.458712e-01 -2.835329e-01 -1.922572e-01 -5.687446e-01   \n",
       "50%    8.108788e-02  7.871758e-02  2.333659e-01 -1.145242e-01  9.252647e-02   \n",
       "75%    4.397368e-01  4.977881e-01  5.259548e-01  4.729905e-02  5.592621e-01   \n",
       "max    4.271689e+01  2.616840e+01  2.178730e+02  5.958040e+00  2.027006e+01   \n",
       "\n",
       "                V10           V11           V12           V13           V14  \\\n",
       "count  5.686300e+05  5.686300e+05  5.686300e+05  5.686300e+05  5.686300e+05   \n",
       "mean   1.991314e-16 -1.183592e-16 -5.758017e-17 -5.698037e-18 -4.078595e-17   \n",
       "std    1.000001e+00  1.000001e+00  1.000001e+00  1.000001e+00  1.000001e+00   \n",
       "min   -3.163276e+00 -5.954723e+00 -2.020399e+00 -5.955227e+00 -2.107417e+00   \n",
       "25%   -5.901008e-01 -7.014495e-01 -8.311331e-01 -6.966667e-01 -8.732057e-01   \n",
       "50%    2.626145e-01 -4.104986e-02  1.620521e-01  1.760812e-02  2.305011e-01   \n",
       "75%    5.924603e-01  7.477730e-01  7.446723e-01  6.856048e-01  7.518216e-01   \n",
       "max    3.172271e+01  2.513573e+00  1.791356e+01  7.187486e+00  1.916954e+01   \n",
       "\n",
       "                V15           V16           V17           V18           V19  \\\n",
       "count  5.686300e+05  5.686300e+05  5.686300e+05  5.686300e+05  5.686300e+05   \n",
       "mean   2.649087e-17 -1.719408e-17 -3.398829e-17 -5.837989e-17  2.479146e-17   \n",
       "std    1.000001e+00  1.000001e+00  1.000001e+00  1.000001e+00  1.000001e+00   \n",
       "min   -3.861813e+00 -2.214513e+00 -2.484938e+00 -2.421949e+00 -7.804988e+00   \n",
       "25%   -6.212485e-01 -7.162655e-01 -6.194913e-01 -5.560458e-01 -5.653082e-01   \n",
       "50%   -3.925566e-02  1.340262e-01  2.716407e-01  8.729382e-02 -2.597869e-02   \n",
       "75%    6.654065e-01  6.556061e-01  5.182242e-01  5.443887e-01  5.601164e-01   \n",
       "max    1.453220e+01  4.665291e+01  6.994124e+00  6.783716e+00  3.831672e+00   \n",
       "\n",
       "                V20           V21           V22           V23           V24  \\\n",
       "count  5.686300e+05  5.686300e+05  5.686300e+05  5.686300e+05  5.686300e+05   \n",
       "mean  -1.579456e-17  4.758361e-17  3.948640e-18  6.194741e-18 -2.799036e-18   \n",
       "std    1.000001e+00  1.000001e+00  1.000001e+00  1.000001e+00  1.000001e+00   \n",
       "min   -7.814784e+01 -1.938252e+01 -7.734798e+00 -3.029545e+01 -4.067968e+00   \n",
       "25%   -3.502399e-01 -1.664408e-01 -4.904892e-01 -2.376289e-01 -6.515801e-01   \n",
       "50%   -1.233776e-01 -3.743065e-02 -2.732881e-02 -5.968903e-02  1.590123e-02   \n",
       "75%    2.482164e-01  1.479787e-01  4.638817e-01  1.557153e-01  7.007374e-01   \n",
       "max    2.987281e+01  8.087080e+00  1.263251e+01  3.170763e+01  1.296564e+01   \n",
       "\n",
       "                V25           V26           V27           V28         Amount  \\\n",
       "count  5.686300e+05  5.686300e+05  5.686300e+05  5.686300e+05  568630.000000   \n",
       "mean  -3.178905e-17 -7.497417e-18 -3.598760e-17  2.609101e-17   12041.957635   \n",
       "std    1.000001e+00  1.000001e+00  1.000001e+00  1.000001e+00    6919.644449   \n",
       "min   -1.361263e+01 -8.226969e+00 -1.049863e+01 -3.903524e+01      50.010000   \n",
       "25%   -5.541485e-01 -6.318948e-01 -3.049607e-01 -2.318783e-01    6054.892500   \n",
       "50%   -8.193162e-03 -1.189208e-02 -1.729111e-01 -1.392973e-02   12030.150000   \n",
       "75%    5.500147e-01  6.728879e-01  3.340230e-01  4.095903e-01   18036.330000   \n",
       "max    1.462151e+01  5.623285e+00  1.132311e+02  7.725594e+01   24039.930000   \n",
       "\n",
       "          Class  \n",
       "count  568630.0  \n",
       "mean        0.5  \n",
       "std         0.5  \n",
       "min         0.0  \n",
       "25%         0.0  \n",
       "50%         0.5  \n",
       "75%         1.0  \n",
       "max         1.0  "
      ]
     },
     "execution_count": 7,
     "metadata": {},
     "output_type": "execute_result"
    }
   ],
   "source": [
    "df.describe()"
   ]
  },
  {
   "cell_type": "markdown",
   "id": "cb093c36",
   "metadata": {},
   "source": [
    "**Conduct an examination of the distinct values present in each column of the dataset.**"
   ]
  },
  {
   "cell_type": "code",
   "execution_count": 8,
   "id": "9eae135e",
   "metadata": {},
   "outputs": [
    {
     "data": {
      "text/plain": [
       "id        568630\n",
       "V1        552035\n",
       "V2        552035\n",
       "V3        552035\n",
       "V4        552035\n",
       "V5        552035\n",
       "V6        552035\n",
       "V7        552035\n",
       "V8        552035\n",
       "V9        552035\n",
       "V10       552035\n",
       "V11       552035\n",
       "V12       552035\n",
       "V13       552035\n",
       "V14       552035\n",
       "V15       552035\n",
       "V16       552035\n",
       "V17       552035\n",
       "V18       552035\n",
       "V19       552035\n",
       "V20       552035\n",
       "V21       552035\n",
       "V22       552035\n",
       "V23       552035\n",
       "V24       552035\n",
       "V25       552035\n",
       "V26       552035\n",
       "V27       552035\n",
       "V28       552035\n",
       "Amount    506485\n",
       "Class          2\n",
       "dtype: int64"
      ]
     },
     "execution_count": 8,
     "metadata": {},
     "output_type": "execute_result"
    }
   ],
   "source": [
    "df.nunique()"
   ]
  },
  {
   "cell_type": "markdown",
   "id": "d0f7c166",
   "metadata": {},
   "source": [
    "**Perform an assessment of the presence of null values in the columns of the dataset.**"
   ]
  },
  {
   "cell_type": "code",
   "execution_count": 9,
   "id": "0a14eb20",
   "metadata": {},
   "outputs": [
    {
     "data": {
      "text/plain": [
       "id        0\n",
       "V1        0\n",
       "V2        0\n",
       "V3        0\n",
       "V4        0\n",
       "V5        0\n",
       "V6        0\n",
       "V7        0\n",
       "V8        0\n",
       "V9        0\n",
       "V10       0\n",
       "V11       0\n",
       "V12       0\n",
       "V13       0\n",
       "V14       0\n",
       "V15       0\n",
       "V16       0\n",
       "V17       0\n",
       "V18       0\n",
       "V19       0\n",
       "V20       0\n",
       "V21       0\n",
       "V22       0\n",
       "V23       0\n",
       "V24       0\n",
       "V25       0\n",
       "V26       0\n",
       "V27       0\n",
       "V28       0\n",
       "Amount    0\n",
       "Class     0\n",
       "dtype: int64"
      ]
     },
     "execution_count": 9,
     "metadata": {},
     "output_type": "execute_result"
    }
   ],
   "source": [
    "df.isnull().sum()"
   ]
  },
  {
   "cell_type": "markdown",
   "id": "b26fff50",
   "metadata": {},
   "source": [
    "**Conducting an assessment to identify and examine duplicate values within the dataset.**"
   ]
  },
  {
   "cell_type": "code",
   "execution_count": 10,
   "id": "57ebdee5",
   "metadata": {},
   "outputs": [
    {
     "data": {
      "text/plain": [
       "0"
      ]
     },
     "execution_count": 10,
     "metadata": {},
     "output_type": "execute_result"
    }
   ],
   "source": [
    "df.duplicated().sum()"
   ]
  },
  {
   "cell_type": "markdown",
   "id": "86fc676c",
   "metadata": {},
   "source": [
    "## Data Visualization"
   ]
  },
  {
   "cell_type": "markdown",
   "id": "34652171",
   "metadata": {},
   "source": [
    "**Determine the frequency or count of classes to check the  \"fraudulent\" or \"non-fraudulent\" number.**"
   ]
  },
  {
   "cell_type": "code",
   "execution_count": 11,
   "id": "498f85a2",
   "metadata": {},
   "outputs": [
    {
     "data": {
      "image/png": "[encoded data removed]",
      "text/plain": [
       "<Figure size 640x480 with 1 Axes>"
      ]
     },
     "metadata": {},
     "output_type": "display_data"
    }
   ],
   "source": [
    "ax = sns.countplot(x='Class',data=df,palette='magma')\n",
    "ax.bar_label(ax.containers[0])\n",
    "plt.show()"
   ]
  },
  {
   "cell_type": "markdown",
   "id": "49fee9e9",
   "metadata": {},
   "source": [
    "In this data, there is a eqal cout of 0 and 1."
   ]
  },
  {
   "cell_type": "markdown",
   "id": "19efebd9",
   "metadata": {},
   "source": [
    "**Generate a histplot to visually analyze the count of Amount Variable.**"
   ]
  },
  {
   "cell_type": "code",
   "execution_count": 12,
   "id": "63275c96",
   "metadata": {},
   "outputs": [
    {
     "data": {
      "image/png": "[encoded data removed]",
      "text/plain": [
       "<Figure size 2000x800 with 1 Axes>"
      ]
     },
     "metadata": {},
     "output_type": "display_data"
    }
   ],
   "source": [
    "plt.figure(figsize=(20,8))\n",
    "ax = sns.histplot(x='Amount',data=df,palette='magma',kde=True)\n",
    "ax.bar_label(ax.containers[0])\n",
    "plt.show()"
   ]
  },
  {
   "cell_type": "markdown",
   "id": "8d1c722f",
   "metadata": {},
   "source": [
    "According to the presented diagram, the data reveals a range of transaction amounts, with the minimum value recorded at 50 rupees and the maximum at 24,039 rupees. Notably, the distribution of transaction amounts exhibits a relatively uniform count across most of the range, suggesting a consistent frequency of occurrence for different amounts."
   ]
  },
  {
   "cell_type": "markdown",
   "id": "80e4ec57",
   "metadata": {},
   "source": [
    "**Lets check the skewness of the data.**"
   ]
  },
  {
   "cell_type": "code",
   "execution_count": 13,
   "id": "a32251a3",
   "metadata": {},
   "outputs": [
    {
     "data": {
      "text/plain": [
       "id       -6.579536e-16\n",
       "V1       -8.341717e-02\n",
       "V2       -1.397952e+00\n",
       "V3        1.462221e-02\n",
       "V4       -4.416893e-02\n",
       "V5        1.506414e+00\n",
       "V6       -2.016110e-01\n",
       "V7        1.902687e+01\n",
       "V8        2.999722e-01\n",
       "V9        1.710575e-01\n",
       "V10       7.404136e-01\n",
       "V11      -2.089056e-02\n",
       "V12       6.675895e-02\n",
       "V13       1.490639e-02\n",
       "V14       2.078348e-01\n",
       "V15       1.123298e-02\n",
       "V16       2.664070e-01\n",
       "V17       3.730610e-01\n",
       "V18       1.291911e-01\n",
       "V19      -1.017123e-02\n",
       "V20      -1.556460e+00\n",
       "V21      -1.089833e-01\n",
       "V22       3.185295e-01\n",
       "V23      -9.968746e-02\n",
       "V24       6.608974e-02\n",
       "V25       2.300804e-02\n",
       "V26      -1.895874e-02\n",
       "V27       2.755452e+00\n",
       "V28       1.724978e+00\n",
       "Amount    1.655585e-03\n",
       "Class     0.000000e+00\n",
       "dtype: float64"
      ]
     },
     "execution_count": 13,
     "metadata": {},
     "output_type": "execute_result"
    }
   ],
   "source": [
    "df.skew()"
   ]
  },
  {
   "cell_type": "markdown",
   "id": "cef7ccf5",
   "metadata": {},
   "source": [
    "**Features like V1,V10,V23 are highly negatively skewed.**"
   ]
  },
  {
   "cell_type": "markdown",
   "id": "6987a83e",
   "metadata": {},
   "source": [
    "**Assigning the features as X and target as y and then split the dataset for further modelling**"
   ]
  },
  {
   "cell_type": "code",
   "execution_count": 14,
   "id": "401e8368",
   "metadata": {},
   "outputs": [],
   "source": [
    "X = df.drop([\"Class\"], axis=1)\n",
    "y = df[\"Class\"]\n",
    "X_train, X_test, y_train, y_test = train_test_split(X, y, test_size=0.2, random_state=42)"
   ]
  },
  {
   "cell_type": "markdown",
   "id": "005e890b",
   "metadata": {},
   "source": [
    "**Create a list of diverse machine learning algorithms, which will serve as the classifiers for our analysis.**"
   ]
  },
  {
   "cell_type": "code",
   "execution_count": 15,
   "id": "ec4d76cd",
   "metadata": {},
   "outputs": [],
   "source": [
    "classifiers = [\n",
    "    ('Decision Tree', DecisionTreeClassifier()),\n",
    "    ('Support Vector Machine', SVC()),\n",
    "    ('Random Forest', RandomForestClassifier()),\n",
    "    ('Gaussian Naive Bayes', GaussianNB()),\n",
    "    ('Gradient Boosting Classifier', GradientBoostingClassifier()),\n",
    "    ('Logistic Regression', LogisticRegression()),\n",
    "    (\"K-Nearest Neighbors\", KNeighborsClassifier())\n",
    "]"
   ]
  },
  {
   "cell_type": "markdown",
   "id": "f815dfd1",
   "metadata": {},
   "source": [
    "**Create a dictionary that contains various evaluation metrics as keys and their corresponding values as the evaluation formulas.**"
   ]
  },
  {
   "cell_type": "code",
   "execution_count": 16,
   "id": "ea06336f",
   "metadata": {},
   "outputs": [],
   "source": [
    "metrics = {\n",
    "    'R2 Score': [],\n",
    "    'Mean Absolute Error': [],\n",
    "    'Mean Squared Error': [],\n",
    "    'Accuracy': [],\n",
    "    'Precision': [],\n",
    "    'Recall': [],\n",
    "    'F1 Score': []\n",
    "}"
   ]
  },
  {
   "cell_type": "markdown",
   "id": "9539e7fd",
   "metadata": {},
   "source": [
    "**Create a pipeline by combining the StandardScaler and the chosen classifier, train it on the training data, predict the rocket launches for the test data, calculate the evaluation metrics, store them in the dictionary, and display the evaluation metrics for the current classifier.**"
   ]
  },
  {
   "cell_type": "code",
   "execution_count": 17,
   "id": "33e004c1",
   "metadata": {},
   "outputs": [
    {
     "name": "stdout",
     "output_type": "stream",
     "text": [
      "Metrics for Decision Tree:\n",
      "R2 Score: 0.9980303458786882\n",
      "Mean Absolute Error: 0.0004924115857411674\n",
      "Mean Squared Error: 0.0004924115857411674\n",
      "Accuracy: 0.9995075884142588\n",
      "Precision: 0.9993858571679242\n",
      "Recall: 0.9996314237573716\n",
      "F1 Score: 0.9995086253794992\n",
      "\n",
      "Metrics for Support Vector Machine:\n",
      "R2 Score: 0.9986986213841333\n",
      "Mean Absolute Error: 0.00032534336915041414\n",
      "Mean Squared Error: 0.00032534336915041414\n",
      "Accuracy: 0.9996746566308495\n",
      "Precision: 0.9997191553597444\n",
      "Recall: 0.9996314237573716\n",
      "F1 Score: 0.9996752876337244\n",
      "\n",
      "Metrics for Random Forest:\n",
      "R2 Score: 0.9992613797045081\n",
      "Mean Absolute Error: 0.00018465434465293775\n",
      "Mean Squared Error: 0.00018465434465293775\n",
      "Accuracy: 0.999815345655347\n",
      "Precision: 0.9998946758649745\n",
      "Recall: 0.9997367312552654\n",
      "F1 Score: 0.9998156973223454\n",
      "\n",
      "Metrics for Gaussian Naive Bayes:\n",
      "R2 Score: 0.7257608360023603\n",
      "Mean Absolute Error: 0.06855952025042647\n",
      "Mean Squared Error: 0.06855952025042647\n",
      "Accuracy: 0.9314404797495736\n",
      "Precision: 0.9803856447926231\n",
      "Recall: 0.8807743611345128\n",
      "F1 Score: 0.9279143514880319\n",
      "\n",
      "Metrics for Gradient Boosting Classifier:\n",
      "R2 Score: 0.998839310964227\n",
      "Mean Absolute Error: 0.00029017111302604505\n",
      "Mean Squared Error: 0.00029017111302604505\n",
      "Accuracy: 0.9997098288869739\n",
      "Precision: 0.9997191750767881\n",
      "Recall: 0.9997016287559675\n",
      "F1 Score: 0.9997104018393871\n",
      "\n",
      "Metrics for Logistic Regression:\n",
      "R2 Score: 0.9935282793156899\n",
      "Mean Absolute Error: 0.0016179237817209786\n",
      "Mean Squared Error: 0.0016179237817209786\n",
      "Accuracy: 0.998382076218279\n",
      "Precision: 0.9988405593422809\n",
      "Recall: 0.997928952541421\n",
      "F1 Score: 0.9983845478489903\n",
      "\n",
      "Metrics for K-Nearest Neighbors:\n",
      "R2 Score: 0.9976434495334305\n",
      "Mean Absolute Error: 0.0005891352900831824\n",
      "Mean Squared Error: 0.0005891352900831824\n",
      "Accuracy: 0.9994108647099168\n",
      "Precision: 0.9988779213492995\n",
      "Recall: 0.9999473462510531\n",
      "F1 Score: 0.9994123477147343\n",
      "\n"
     ]
    }
   ],
   "source": [
    "for name, classifier in classifiers:\n",
    "    # Create a pipeline with StandardScaler and the classifier\n",
    "    pipeline = Pipeline([\n",
    "        ('scaler', StandardScaler()),\n",
    "        ('classifier', classifier)\n",
    "    ])\n",
    "\n",
    "    # Train the pipeline on the training data\n",
    "    pipeline.fit(X_train, y_train)\n",
    "\n",
    "    # Predict the rocket launches for the test data\n",
    "    y_pred = pipeline.predict(X_test)\n",
    "\n",
    "    y_test = y_test.astype(int)\n",
    "    y_pred = y_pred.astype(int)\n",
    "    \n",
    "    r2 = r2_score(y_test, y_pred)\n",
    "    mae = mean_absolute_error(y_test, y_pred)\n",
    "    mse = mean_squared_error(y_test, y_pred)\n",
    "    accuracy = accuracy_score(y_test, y_pred)\n",
    "    precision = precision_score(y_test, y_pred)\n",
    "    recall = recall_score(y_test, y_pred)\n",
    "    f1 = f1_score(y_test, y_pred)\n",
    "\n",
    "    # Store the evaluation metrics in the dictionary\n",
    "    metrics['R2 Score'].append(r2)\n",
    "    metrics['Mean Absolute Error'].append(mae)\n",
    "    metrics['Mean Squared Error'].append(mse)\n",
    "    metrics['Accuracy'].append(accuracy)\n",
    "    metrics['Precision'].append(precision)\n",
    "    metrics['Recall'].append(recall)\n",
    "    metrics['F1 Score'].append(f1)\n",
    "\n",
    "    # Display the evaluation metrics for the current classifier\n",
    "    print(f\"Metrics for {name}:\")\n",
    "    print(\"R2 Score:\", r2)\n",
    "    print(\"Mean Absolute Error:\", mae)\n",
    "    print(\"Mean Squared Error:\", mse)\n",
    "    print(\"Accuracy:\", accuracy)\n",
    "    print(\"Precision:\", precision)\n",
    "    print(\"Recall:\", recall)\n",
    "    print(\"F1 Score:\", f1)\n",
    "    print()"
   ]
  },
  {
   "cell_type": "code",
   "execution_count": 18,
   "id": "d6f61c4c",
   "metadata": {},
   "outputs": [
    {
     "name": "stdout",
     "output_type": "stream",
     "text": [
      "                              R2 Score  Mean Absolute Error  \\\n",
      "Random Forest                 0.999261             0.000185   \n",
      "Gradient Boosting Classifier  0.998839             0.000290   \n",
      "Support Vector Machine        0.998699             0.000325   \n",
      "Decision Tree                 0.998030             0.000492   \n",
      "K-Nearest Neighbors           0.997643             0.000589   \n",
      "Logistic Regression           0.993528             0.001618   \n",
      "Gaussian Naive Bayes          0.725761             0.068560   \n",
      "\n",
      "                              Mean Squared Error  Accuracy  Precision  \\\n",
      "Random Forest                           0.000185  0.999815   0.999895   \n",
      "Gradient Boosting Classifier            0.000290  0.999710   0.999719   \n",
      "Support Vector Machine                  0.000325  0.999675   0.999719   \n",
      "Decision Tree                           0.000492  0.999508   0.999386   \n",
      "K-Nearest Neighbors                     0.000589  0.999411   0.998878   \n",
      "Logistic Regression                     0.001618  0.998382   0.998841   \n",
      "Gaussian Naive Bayes                    0.068560  0.931440   0.980386   \n",
      "\n",
      "                                Recall  F1 Score  \n",
      "Random Forest                 0.999737  0.999816  \n",
      "Gradient Boosting Classifier  0.999702  0.999710  \n",
      "Support Vector Machine        0.999631  0.999675  \n",
      "Decision Tree                 0.999631  0.999509  \n",
      "K-Nearest Neighbors           0.999947  0.999412  \n",
      "Logistic Regression           0.997929  0.998385  \n",
      "Gaussian Naive Bayes          0.880774  0.927914  \n",
      "Best Algorithm: Random Forest\n"
     ]
    }
   ],
   "source": [
    "metrics_df = pd.DataFrame(metrics, index=[name for name, _ in classifiers])\n",
    "\n",
    "# Find the best algorithm based on the highest accuracy\n",
    "sorted_metrics_df = metrics_df.sort_values(by=['Accuracy', 'Precision','R2 Score','Recall','F1 Score'], ascending=False)\n",
    "\n",
    "# Find the best algorithm based on both accuracy and precision\n",
    "best_algorithm = sorted_metrics_df.index[0]\n",
    "\n",
    "# Print the evaluation metrics for each algorithm\n",
    "print(sorted_metrics_df)\n",
    "\n",
    "# Print the best algorithm\n",
    "print('Best Algorithm:', best_algorithm)"
   ]
  },
  {
   "cell_type": "markdown",
   "id": "44152c36",
   "metadata": {},
   "source": [
    "## MODEL EVALUATION"
   ]
  },
  {
   "cell_type": "markdown",
   "id": "ffe8ca75",
   "metadata": {},
   "source": [
    "**Now, let's create two lists: \"accuracy_before\" and \"accuracy_after\" to calculate the accuracy before cross-validation and the accuracy after cross-validation, respectively.**"
   ]
  },
  {
   "cell_type": "code",
   "execution_count": 19,
   "id": "4a1c12ae",
   "metadata": {},
   "outputs": [],
   "source": [
    "accuracy_before = []\n",
    "accuracy_after = []"
   ]
  },
  {
   "cell_type": "code",
   "execution_count": 20,
   "id": "fcce3ea6",
   "metadata": {},
   "outputs": [
    {
     "name": "stdout",
     "output_type": "stream",
     "text": [
      "Accuracy Before CV: 0.9994108647099168\n"
     ]
    }
   ],
   "source": [
    "accuracy = accuracy_score(y_test, y_pred)\n",
    "accuracy_before.append(accuracy)\n",
    "print('Accuracy Before CV:', accuracy)"
   ]
  },
  {
   "cell_type": "markdown",
   "id": "65024924",
   "metadata": {},
   "source": [
    "**Let's calculate the accuracy after cross-validation, cross-validation scores, and the average cross-validation score.**"
   ]
  },
  {
   "cell_type": "code",
   "execution_count": 21,
   "id": "2fb469df",
   "metadata": {},
   "outputs": [
    {
     "name": "stdout",
     "output_type": "stream",
     "text": [
      "Accuracy After CV: 0.998615971721506\n",
      "Cross-Validation Scores: [0.99934052 0.99983293 0.99707191 0.99862828 0.99820621]\n",
      "Average Cross-Validation Score: 0.998615971721506\n"
     ]
    }
   ],
   "source": [
    "scores = cross_val_score(pipeline, X, y, cv=5)\n",
    "accuracy_cv = np.mean(scores)\n",
    "accuracy_after.append(accuracy_cv)\n",
    "print('Accuracy After CV:', accuracy_cv)\n",
    "print('Cross-Validation Scores:', scores)\n",
    "print('Average Cross-Validation Score:', np.mean(scores))"
   ]
  },
  {
   "cell_type": "markdown",
   "id": "f384a321",
   "metadata": {},
   "source": [
    "**Now let's create a confusion plot to visualize the test and prediction results.**"
   ]
  },
  {
   "cell_type": "code",
   "execution_count": 22,
   "id": "e9e87a1b",
   "metadata": {},
   "outputs": [
    {
     "data": {
      "image/png": "[encoded data removed]",
      "text/plain": [
       "<Figure size 640x480 with 2 Axes>"
      ]
     },
     "metadata": {},
     "output_type": "display_data"
    }
   ],
   "source": [
    "cm = confusion_matrix(y_test, y_pred)\n",
    "sns.heatmap(cm, annot=True,cmap='Blues')\n",
    "plt.title('Confusion Matrix - ' + name)\n",
    "plt.xlabel('Predicted Label')\n",
    "plt.ylabel('True Label')\n",
    "plt.show()"
   ]
  },
  {
   "cell_type": "code",
   "execution_count": null,
   "id": "198dd264",
   "metadata": {},
   "outputs": [],
   "source": []
  }
 ],
 "metadata": {
  "kernelspec": {
   "display_name": "Python 3 (ipykernel)",
   "language": "python",
   "name": "python3"
  },
  "language_info": {
   "codemirror_mode": {
    "name": "ipython",
    "version": 3
   },
   "file_extension": ".py",
   "mimetype": "text/x-python",
   "name": "python",
   "nbconvert_exporter": "python",
   "pygments_lexer": "ipython3",
   "version": "3.10.9"
  }
 },
 "nbformat": 4,
 "nbformat_minor": 5
}
